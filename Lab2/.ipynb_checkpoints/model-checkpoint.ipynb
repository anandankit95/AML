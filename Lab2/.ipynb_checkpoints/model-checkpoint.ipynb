{
 "cells": [
  {
   "cell_type": "code",
   "execution_count": 1,
   "metadata": {},
   "outputs": [
    {
     "name": "stderr",
     "output_type": "stream",
     "text": [
      "/Users/ankit/anaconda/lib/python3.5/importlib/_bootstrap.py:222: RuntimeWarning: compiletime version 3.6 of module 'tensorflow.python.framework.fast_tensor_util' does not match runtime version 3.5\n",
      "  return f(*args, **kwds)\n",
      "/Users/ankit/anaconda/lib/python3.5/site-packages/h5py/__init__.py:34: FutureWarning: Conversion of the second argument of issubdtype from `float` to `np.floating` is deprecated. In future, it will be treated as `np.float64 == np.dtype(float).type`.\n",
      "  from ._conv import register_converters as _register_converters\n"
     ]
    }
   ],
   "source": [
    "import tensorflow as tf\n",
    "import matplotlib.pyplot as plt\n",
    "import numpy as np\n",
    "import os\n",
    "import seaborn as sb\n",
    "os.environ['TF_CPP_MIN_LOG_LEVEL'] = '3' \n",
    "tf.logging.set_verbosity(tf.logging.ERROR)"
   ]
  },
  {
   "cell_type": "code",
   "execution_count": 2,
   "metadata": {},
   "outputs": [],
   "source": [
    "def parse_function(example_proto):\n",
    "    features = {\n",
    "        'image':tf.FixedLenFeature((),tf.string),\n",
    "        'label':tf.FixedLenFeature((),tf.int64)\n",
    "    }\n",
    "    parsed_features = tf.parse_single_example(example_proto, features)\n",
    "    features = {'image':tf.decode_raw(parsed_features[\"image\"],tf.uint8)}\n",
    "    labels = tf.cast(parsed_features[\"label\"], tf.int32)\n",
    "    return features,labels"
   ]
  },
  {
   "cell_type": "code",
   "execution_count": 3,
   "metadata": {},
   "outputs": [],
   "source": [
    "def get_train_input():\n",
    "    dataset = tf.data.TFRecordDataset('train.tfrecord')\n",
    "    return dataset.map(parse_function).batch(50).prefetch(64)#.take(10000)\n",
    "\n",
    "def get_test_input():\n",
    "    dataset = tf.data.TFRecordDataset('test.tfrecord').map(parse_function).batch(50).prefetch(64)#.take(10000)\n",
    "    return dataset\n",
    "\n",
    "def get_test_input_single():\n",
    "    dataset = tf.data.TFRecordDataset('test.tfrecord').map(parse_function).batch(1).prefetch(64)#.take(10000)\n",
    "    return dataset\n"
   ]
  },
  {
   "cell_type": "code",
   "execution_count": 4,
   "metadata": {},
   "outputs": [],
   "source": [
    "feature_columns = [\n",
    "    tf.feature_column.numeric_column(key='image',shape=(28,28))\n",
    "]"
   ]
  },
  {
   "cell_type": "code",
   "execution_count": 5,
   "metadata": {},
   "outputs": [],
   "source": [
    "estimator = tf.estimator.DNNClassifier(\n",
    "    feature_columns=feature_columns,\n",
    "    hidden_units=[512,256,128],\n",
    "    n_classes=62,\n",
    "    model_dir='estimator_logs',\n",
    "    batch_norm=True\n",
    ")\n",
    "def prec(features, labels, predictions):\n",
    "    print(labels)\n",
    "    print(predictions)\n",
    "    return {'precision': tf.metrics.precision(labels, predictions['class_ids'])}\n",
    "def rec(features, labels, predictions):\n",
    "    return {'recall': tf.metrics.recall(labels, predictions['class_ids'])}\n",
    "def f1(features, labels, predictions):\n",
    "    return {'f1_score': tf.contrib.metrics.f1_score(labels, predictions['class_ids'])}\n",
    "\n",
    "estimator = tf.contrib.estimator.add_metrics(estimator,prec)\n",
    "estimator = tf.contrib.estimator.add_metrics(estimator,rec)\n",
    "#estimator = tf.contrib.estimator.add_metrics(estimator,f1)"
   ]
  },
  {
   "cell_type": "code",
   "execution_count": 6,
   "metadata": {},
   "outputs": [
    {
     "data": {
      "text/plain": [
       "<tensorflow.python.estimator.estimator.Estimator at 0x1a1ff766d8>"
      ]
     },
     "execution_count": 6,
     "metadata": {},
     "output_type": "execute_result"
    }
   ],
   "source": [
    "estimator.train(input_fn=get_train_input,steps=15000)"
   ]
  },
  {
   "cell_type": "code",
   "execution_count": 7,
   "metadata": {},
   "outputs": [
    {
     "name": "stdout",
     "output_type": "stream",
     "text": [
      "Tensor(\"IteratorGetNext:1\", shape=(?,), dtype=int32)\n",
      "{'logits': <tf.Tensor 'dnn/logits/BiasAdd:0' shape=(?, 62) dtype=float32>, 'probabilities': <tf.Tensor 'dnn/head/predictions/probabilities:0' shape=(?, 62) dtype=float32>, 'class_ids': <tf.Tensor 'dnn/head/predictions/ExpandDims:0' shape=(?, 1) dtype=int64>, 'classes': <tf.Tensor 'dnn/head/predictions/str_classes:0' shape=(?, 1) dtype=string>}\n"
     ]
    },
    {
     "data": {
      "text/plain": [
       "{'accuracy': 0.84281915,\n",
       " 'average_loss': 0.5811712,\n",
       " 'global_step': 18048,\n",
       " 'loss': 29.05856,\n",
       " 'precision': 0.9906851,\n",
       " 'recall': 0.9941848}"
      ]
     },
     "execution_count": 7,
     "metadata": {},
     "output_type": "execute_result"
    }
   ],
   "source": [
    "estimator.evaluate(input_fn=get_test_input)"
   ]
  },
  {
   "cell_type": "code",
   "execution_count": 8,
   "metadata": {},
   "outputs": [],
   "source": [
    "def get_toy_dataset():\n",
    "    dataset = tf.data.TFRecordDataset('test.tfrecord')\n",
    "    return dataset.map(parse_function).batch(1).take(50)#.take(10000)\n",
    "\n",
    "toy_dataset = get_toy_dataset()\n",
    "def get_examples():\n",
    "    with tf.Session() as sess:\n",
    "        for _ in range(20):\n",
    "            try:\n",
    "                it = toy_dataset.shuffle(10).make_one_shot_iterator()\n",
    "                features,label = it.get_next()\n",
    "                features['image'] = features['image'].eval()\n",
    "                label = label.eval()\n",
    "                yield features,label\n",
    "            except:\n",
    "                break\n"
   ]
  },
  {
   "cell_type": "code",
   "execution_count": 9,
   "metadata": {},
   "outputs": [
    {
     "data": {
      "image/png": "[encoded data removed]",
      "text/plain": [
       "<Figure size 432x288 with 1 Axes>"
      ]
     },
     "metadata": {},
     "output_type": "display_data"
    },
    {
     "name": "stdout",
     "output_type": "stream",
     "text": [
      "actual:[3] predicted:[12]\n"
     ]
    },
    {
     "data": {
      "image/png": "[encoded data removed]",
      "text/plain": [
       "<Figure size 432x288 with 1 Axes>"
      ]
     },
     "metadata": {},
     "output_type": "display_data"
    },
    {
     "name": "stdout",
     "output_type": "stream",
     "text": [
      "actual:[3] predicted:[11]\n"
     ]
    },
    {
     "data": {
      "image/png": "[encoded data removed]",
      "text/plain": [
       "<Figure size 432x288 with 1 Axes>"
      ]
     },
     "metadata": {},
     "output_type": "display_data"
    },
    {
     "name": "stdout",
     "output_type": "stream",
     "text": [
      "actual:[3] predicted:[26]\n"
     ]
    },
    {
     "data": {
      "image/png": "[encoded data removed]",
      "text/plain": [
       "<Figure size 432x288 with 1 Axes>"
      ]
     },
     "metadata": {},
     "output_type": "display_data"
    },
    {
     "name": "stdout",
     "output_type": "stream",
     "text": [
      "actual:[9] predicted:[33]\n"
     ]
    }
   ],
   "source": [
    "for example in get_examples():\n",
    "    for i in estimator.predict(input_fn=lambda:example):\n",
    "        actual = example[1]\n",
    "        if actual>9:\n",
    "            break\n",
    "        image = example[0]['image']\n",
    "        pred = i['class_ids']\n",
    "        image.resize((28,28))\n",
    "        plt.imshow(image)\n",
    "        plt.show()\n",
    "        print('actual:{} predicted:{}'.format(actual,pred))\n",
    "        break\n"
   ]
  },
  {
   "cell_type": "code",
   "execution_count": 10,
   "metadata": {},
   "outputs": [],
   "source": [
    "def get_actuals(dataset):\n",
    "    i = dataset.make_one_shot_iterator()\n",
    "    while True:\n",
    "        try:\n",
    "            a,b = i.get_next()\n",
    "            yield b.eval()[0]\n",
    "        except:\n",
    "            return"
   ]
  },
  {
   "cell_type": "code",
   "execution_count": 11,
   "metadata": {},
   "outputs": [],
   "source": [
    "def plot_confusion_matrix(matrix):\n",
    "    fig = plt.figure(figsize=(12,12))\n",
    "    plt.title(\"Confusion Matrix\")\n",
    "    sb.heatmap(matrix,xticklabels=1,square=True,cbar=False)\n",
    "    plt.show()"
   ]
  },
  {
   "cell_type": "markdown",
   "metadata": {},
   "source": [
    "with tf.Session() as sess:\n",
    "    actuals = get_actuals(get_test_input_single())\n",
    "    preds = [i['class_ids'][0] for i in estimator.predict(input_fn=get_test_input_single)]\n",
    "    actuals = list(actuals)\n",
    "    #matrix = tf.confusion_matrix(preds,actuals).eval()\n",
    "    #plot_confusion_matrix(matrix)"
   ]
  }
 ],
 "metadata": {
  "kernelspec": {
   "display_name": "Python [default]",
   "language": "python",
   "name": "python3"
  },
  "language_info": {
   "codemirror_mode": {
    "name": "ipython",
    "version": 3
   },
   "file_extension": ".py",
   "mimetype": "text/x-python",
   "name": "python",
   "nbconvert_exporter": "python",
   "pygments_lexer": "ipython3",
   "version": "3.5.4"
  }
 },
 "nbformat": 4,
 "nbformat_minor": 2
}
