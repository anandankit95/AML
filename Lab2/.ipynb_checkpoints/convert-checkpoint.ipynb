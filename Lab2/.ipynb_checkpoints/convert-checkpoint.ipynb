{
 "cells": [
  {
   "cell_type": "code",
   "execution_count": 1,
   "metadata": {},
   "outputs": [
    {
     "name": "stderr",
     "output_type": "stream",
     "text": [
      "/Users/ankit/anaconda/lib/python3.5/importlib/_bootstrap.py:222: RuntimeWarning: compiletime version 3.6 of module 'tensorflow.python.framework.fast_tensor_util' does not match runtime version 3.5\n",
      "  return f(*args, **kwds)\n",
      "/Users/ankit/anaconda/lib/python3.5/site-packages/h5py/__init__.py:34: FutureWarning: Conversion of the second argument of issubdtype from `float` to `np.floating` is deprecated. In future, it will be treated as `np.float64 == np.dtype(float).type`.\n",
      "  from ._conv import register_converters as _register_converters\n"
     ]
    }
   ],
   "source": [
    "import tensorflow as tf\n",
    "import gzip\n",
    "import matplotlib.pyplot as plt\n",
    "import numpy as np\n",
    "import os\n",
    "from tqdm import tqdm_notebook as tqdm\n",
    "import progressbar"
   ]
  },
  {
   "cell_type": "code",
   "execution_count": 7,
   "metadata": {},
   "outputs": [],
   "source": [
    "def create_tfrecord_file(images_file,labels_file, name):\n",
    "    print(\"Processing output file {}\".format(name))\n",
    "    images = gzip.open(images_file)\n",
    "    labels = gzip.open(labels_file)\n",
    "    writer = tf.python_io.TFRecordWriter(name)\n",
    "    images.seek(16)\n",
    "    labels.seek(8)\n",
    "    record_count = 0\n",
    "    while True:\n",
    "        data = images.read(784)\n",
    "        if data == b'' or data == '':\n",
    "            print('Wrote {} records'.format(record_count))\n",
    "            writer.close()\n",
    "            return\n",
    "        \n",
    "        label = int.from_bytes(labels.read(1), byteorder='little')\n",
    "        image_feature = tf.train.Feature(\n",
    "            bytes_list=tf.train.BytesList(value=[data])\n",
    "        )\n",
    "        label_feature = tf.train.Feature(\n",
    "            int64_list=tf.train.Int64List(value=[label])\n",
    "        )\n",
    "        features_obj = tf.train.Features(\n",
    "            feature={\n",
    "                'label':label_feature,\n",
    "                'image':image_feature\n",
    "            }\n",
    "        )\n",
    "        example = tf.train.Example(features=features_obj)\n",
    "        writer.write(example.SerializeToString())\n",
    "        record_count += 1\n",
    "        if record_count%10000 == 0:\n",
    "            print(record_count)\n",
    "\n",
    "        "
   ]
  },
  {
   "cell_type": "code",
   "execution_count": 8,
   "metadata": {},
   "outputs": [
    {
     "name": "stdout",
     "output_type": "stream",
     "text": [
      "Processing output file train.tfrecord\n",
      "10000\n",
      "20000\n",
      "30000\n",
      "40000\n",
      "50000\n",
      "60000\n",
      "70000\n",
      "80000\n",
      "90000\n",
      "100000\n",
      "110000\n",
      "Wrote 112800 records\n",
      "Processing output file test.tfrecord\n",
      "10000\n",
      "Wrote 18800 records\n"
     ]
    }
   ],
   "source": [
    "create_tfrecord_file(\n",
    "    images_file='emnist/emnist-balanced-train-images-idx3-ubyte.gz',\n",
    "    labels_file='emnist/emnist-balanced-train-labels-idx1-ubyte.gz',\n",
    "    name='train.tfrecord'\n",
    ")\n",
    "create_tfrecord_file(\n",
    "    images_file='emnist/emnist-balanced-test-images-idx3-ubyte.gz',\n",
    "    labels_file='emnist/emnist-balanced-test-labels-idx1-ubyte.gz',\n",
    "    name='test.tfrecord'\n",
    ")    "
   ]
  }
 ],
 "metadata": {
  "kernelspec": {
   "display_name": "Python [default]",
   "language": "python",
   "name": "python3"
  },
  "language_info": {
   "codemirror_mode": {
    "name": "ipython",
    "version": 3
   },
   "file_extension": ".py",
   "mimetype": "text/x-python",
   "name": "python",
   "nbconvert_exporter": "python",
   "pygments_lexer": "ipython3",
   "version": "3.5.4"
  }
 },
 "nbformat": 4,
 "nbformat_minor": 2
}
