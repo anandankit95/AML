{
 "cells": [
  {
   "cell_type": "markdown",
   "metadata": {},
   "source": [
    "# Detecting similarity in Quora questions\n",
    "This notebook details and implements our approach to the challenge of detecting the similarity between two randomly sampled questions.\n",
    "\n"
   ]
  },
  {
   "cell_type": "code",
   "execution_count": 5,
   "metadata": {},
   "outputs": [
    {
     "name": "stderr",
     "output_type": "stream",
     "text": [
      "/Users/ankit/anaconda/lib/python3.5/importlib/_bootstrap.py:222: RuntimeWarning: compiletime version 3.6 of module 'tensorflow.python.framework.fast_tensor_util' does not match runtime version 3.5\n",
      "  return f(*args, **kwds)\n",
      "/Users/ankit/anaconda/lib/python3.5/site-packages/h5py/__init__.py:34: FutureWarning: Conversion of the second argument of issubdtype from `float` to `np.floating` is deprecated. In future, it will be treated as `np.float64 == np.dtype(float).type`.\n",
      "  from ._conv import register_converters as _register_converters\n",
      "Using TensorFlow backend.\n"
     ]
    }
   ],
   "source": [
    "# For interacting with the JNResearch API\n",
    "from api_client import ApiClient\n",
    "# Data processing\n",
    "import pandas as pd\n",
    "import numpy as np\n",
    "import json\n",
    "from time import time\n",
    "import os\n",
    "# NLP preprocessing\n",
    "from nltk import sent_tokenize, word_tokenize\n",
    "from nltk.corpus import stopwords\n",
    "# Machine learning \n",
    "import tensorflow.keras as keras\n",
    "from keras.layers import Input,Embedding,Dense,GRU,Concatenate, BatchNormalization, Dropout\n",
    "from keras.models import Model, Sequential\n",
    "from keras.preprocessing.sequence import pad_sequences\n",
    "from keras.utils import plot_model\n",
    "from sklearn.model_selection import train_test_split\n",
    "# Plotting and analysis\n",
    "import matplotlib.pyplot as plt"
   ]
  },
  {
   "cell_type": "markdown",
   "metadata": {},
   "source": [
    "## Setup"
   ]
  },
  {
   "cell_type": "markdown",
   "metadata": {},
   "source": [
    "This ensures that the output directory exists. The later code will place its outputs in this directory."
   ]
  },
  {
   "cell_type": "code",
   "execution_count": 9,
   "metadata": {},
   "outputs": [],
   "source": [
    "try:\n",
    "    os.mkdir('./outputs')\n",
    "except FileExistsError:\n",
    "    pass"
   ]
  },
  {
   "cell_type": "markdown",
   "metadata": {},
   "source": [
    "We define a few constants here. These control the flow of execution and a few model paramters."
   ]
  },
  {
   "cell_type": "code",
   "execution_count": null,
   "metadata": {},
   "outputs": [],
   "source": [
    "MAX_LEN=100 # Max length of an input question\n",
    "DATA_SIZE=15000 # Set to <= 0 to read full data\n",
    "EPOCHS=7\n",
    "HIDDEN_UNITS=50\n",
    "COMPLEX_MODE=False # Set to true to run the complex model as well"
   ]
  },
  {
   "cell_type": "markdown",
   "metadata": {},
   "source": [
    "## Utility functions\n",
    "This function loads the downloaded GloVe embeddings file.\n",
    "It returns a dictionary that maps words to indices, and a matrix of corrosponding vectors.\n",
    "This matrix will be used to create the embedding layer later"
   ]
  },
  {
   "cell_type": "code",
   "execution_count": 7,
   "metadata": {},
   "outputs": [],
   "source": [
    "def get_embeddings():\n",
    "    embeddings = open('glove.6B/glove.6B.50d.txt').readlines()\n",
    "    words = []\n",
    "    vectors = []\n",
    "    for row in embeddings:\n",
    "        x = row.split(\" \")\n",
    "        words.append(x[0])\n",
    "        vectors.append([float(x[i]) for i in range(1,len(x))])\n",
    "\n",
    "    default_vector = [0 for _ in range(len(vectors[0]))]\n",
    "    vectors.insert(0,default_vector)\n",
    "    vectors = np.array(vectors)\n",
    "    # Map words to index(reverse list mapping)\n",
    "    word_dict = {}\n",
    "    for i,word in enumerate(words):\n",
    "        word_dict[word] = i+1\n",
    "    \n",
    "    return word_dict, vectors\n",
    "\n",
    "word_dict,vectors = get_embeddings()"
   ]
  },
  {
   "cell_type": "markdown",
   "metadata": {},
   "source": [
    "This function loads data from a csv file (produced by another notebook). \n",
    "It produces usable training and testing data."
   ]
  },
  {
   "cell_type": "code",
   "execution_count": null,
   "metadata": {},
   "outputs": [],
   "source": [
    "def get_data():\n",
    "    if DATA_SIZE > 0:\n",
    "        data=pd.read_csv('quora.csv', nrows=15000)\n",
    "    else:\n",
    "        data=pd.read_csv('quora.csv')\n",
    "        \n",
    "    def process_question(sentence):\n",
    "        try: # Something in the input data trips up nltk somehow\n",
    "            words = word_tokenize(sentence)\n",
    "        except: # Naivity to the rescue!\n",
    "            words = sentence.split(\" \")\n",
    "            \n",
    "        words = [word_dict.get(word,0) for word in words]\n",
    "        return np.array(pad_sequences(np.array([words]),maxlen=MAX_LEN)[0])\n",
    "\n",
    "    data['question1'] = data['question1'].apply(process_question)\n",
    "    data['question2'] = data['question2'].apply(process_question)\n",
    "\n",
    "    train,test = train_test_split(data,test_size=0.15)\n",
    "\n",
    "    def extract(data):\n",
    "        return {\n",
    "            'left':np.stack(data['question1'],axis=0),\n",
    "            'right':np.stack(data['question2'],axis=0)\n",
    "        }, data['is_duplicate'].values\n",
    "\n",
    "    train_X,train_Y = extract(train)\n",
    "    test_X,test_Y = extract(test)\n",
    "    \n",
    "    print(data.head())\n",
    "    return train_X,train_Y,test_X,test_Y\n",
    "    \n",
    "    \n",
    "    \n",
    "train_X,train_Y,test_X,test_Y = get_data()\n"
   ]
  },
  {
   "cell_type": "markdown",
   "metadata": {},
   "source": [
    "This function generates statistics for a model. It takes a history object (returned from the model.fit() function) and produces a set of charts and a text summary of the training process."
   ]
  },
  {
   "cell_type": "code",
   "execution_count": 46,
   "metadata": {},
   "outputs": [],
   "source": [
    "def generate_stats(history,prefix='model'):\n",
    "    training_loss = history.history['loss']\n",
    "    test_loss = history.history['val_loss']\n",
    "    fig = plt.figure(figsize=(10,10))\n",
    "    # Create count of the number of epochs\n",
    "    epoch_count = range(1, len(training_loss) + 1)\n",
    "    plt.subplot(3,1,1)\n",
    "    plt.title('Loss')\n",
    "    # Visualize loss history\n",
    "    plt.plot(epoch_count, training_loss, 'r--')\n",
    "    plt.plot(epoch_count, test_loss, 'r-')\n",
    "    plt.legend(['Training Loss', 'Test Loss'])\n",
    "    plt.ylabel('Loss')\n",
    "    plt.subplot(3,1,2)\n",
    "    plt.title('MSE')\n",
    "    plt.plot(epoch_count, history.history['mean_squared_error'], 'b--')\n",
    "    plt.plot(epoch_count, history.history['val_mean_squared_error'], 'b-')\n",
    "    plt.legend(['Training MSE', 'Test MSE'])\n",
    "    plt.ylabel('MSE')\n",
    "    \n",
    "    plt.subplot(3,1,3)\n",
    "    plt.title('Accuracy')\n",
    "    plt.plot(epoch_count, history.history['binary_accuracy'], 'g--')\n",
    "    plt.plot(epoch_count, history.history['val_binary_accuracy'],'g-')\n",
    "    plt.xlabel('Epoch')\n",
    "    plt.ylabel('Accuracy')\n",
    "    plt.legend(['Training Accuracy', 'Test Accuracy'])\n",
    "    plt.savefig('./outputs/{}_stats.png'.format(prefix))\n",
    "    plt.show()\n",
    "    f = open('./outputs/{}_report.txt'.format(prefix),'w')\n",
    "    f.write(\"Trained over {} samples for {} epochs (batch size {})\\n\".format(\n",
    "    history.params['samples'],history.params['epochs'],history.params['batch_size']))\n",
    "    f.write(\"final validation accuracy: {}\".format(history.history['val_binary_accuracy'][-1]))\n"
   ]
  },
  {
   "cell_type": "markdown",
   "metadata": {},
   "source": [
    "## The models\n",
    "This function produces the basic model."
   ]
  },
  {
   "cell_type": "code",
   "execution_count": 43,
   "metadata": {},
   "outputs": [],
   "source": [
    "def get_model():\n",
    "    left = Input(shape=(MAX_LEN,),dtype='int32', name='left')\n",
    "    right = Input(shape=(MAX_LEN,),dtype='int32', name='right')\n",
    "    embedding_layer = Embedding(len(vectors), 50, weights=[vectors],input_length=MAX_LEN, trainable=False,name=\"Glove\")\n",
    "\n",
    "    embed_left = embedding_layer(left)\n",
    "    embed_right = embedding_layer(right)\n",
    "\n",
    "    gru_layer = GRU(HIDDEN_UNITS)\n",
    "\n",
    "    left_vector = gru_layer(embed_left)\n",
    "    right_vector = gru_layer(embed_right)\n",
    "\n",
    "    final_vector = Concatenate()([left_vector,right_vector])\n",
    "    l = final_vector\n",
    "    l = Dense(50,activation='relu')(l)\n",
    "    is_duplicate = Dense(1,activation='sigmoid',name='is_duplicate')(l)\n",
    "\n",
    "    model = Model(inputs=[left,right],outputs=[is_duplicate])\n",
    "    model.compile(optimizer='adam',loss='binary_crossentropy',metrics=['mse','binary_accuracy'])\n",
    "    return model\n",
    "\n"
   ]
  },
  {
   "cell_type": "markdown",
   "metadata": {},
   "source": [
    "This function produces an alternate, more complicated model. We do not currently use it."
   ]
  },
  {
   "cell_type": "code",
   "execution_count": 44,
   "metadata": {},
   "outputs": [],
   "source": [
    "def get_complex_model():\n",
    "    left = Input(shape=(MAX_LEN,),dtype='int32', name='left')\n",
    "    right = Input(shape=(MAX_LEN,),dtype='int32', name='right')\n",
    "    embedding_layer = Embedding(len(vectors), 50, weights=[vectors],input_length=MAX_LEN, trainable=False,name=\"Glove\")\n",
    "\n",
    "    embed_left = embedding_layer(left)\n",
    "    embed_right = embedding_layer(right)\n",
    "\n",
    "    gru_layer = GRU(HIDDEN_UNITS)\n",
    "\n",
    "    left_vector = gru_layer(embed_left)\n",
    "    right_vector = gru_layer(embed_right)\n",
    "\n",
    "    final_vector = Concatenate()([left_vector,right_vector])\n",
    "    l = final_vector\n",
    "    l = Dropout(0.3)(l)\n",
    "    l = Dense(100,activation='relu')(l)\n",
    "    l = BatchNormalization()(l)\n",
    "    l = Dense(50,activation='relu')(l)\n",
    "    l = Dropout(0.2)(l)\n",
    "    l = Dense(30,activation='relu')(l)\n",
    "    l = BatchNormalization()(l)\n",
    "    is_duplicate = Dense(1,activation='sigmoid',name='is_duplicate')(l)\n",
    "\n",
    "    model = Model(inputs=[left,right],outputs=[is_duplicate])\n",
    "    model.compile(optimizer='adam',loss='binary_crossentropy',metrics=['mse','binary_accuracy'])\n",
    "    return model\n"
   ]
  },
  {
   "cell_type": "markdown",
   "metadata": {},
   "source": [
    "## Running\n",
    "This cell contains the main driver code. It generates the model, produces a YAML summary, produces a layer graph, trains it, and finally generates statistics.\n",
    "Note that this will not preserve the weights of the model across runs. Move the model creation outside the cell if you want that."
   ]
  },
  {
   "cell_type": "code",
   "execution_count": 47,
   "metadata": {},
   "outputs": [
    {
     "name": "stdout",
     "output_type": "stream",
     "text": [
      "Train on 12750 samples, validate on 2250 samples\n",
      "Epoch 1/7\n",
      "12750/12750 [==============================] - 59s - loss: 0.6357 - mean_squared_error: 0.2227 - binary_accuracy: 0.6478 - val_loss: 0.6123 - val_mean_squared_error: 0.2124 - val_binary_accuracy: 0.6582\n",
      "Epoch 2/7\n",
      "12750/12750 [==============================] - 50s - loss: 0.5867 - mean_squared_error: 0.2016 - binary_accuracy: 0.6877 - val_loss: 0.5824 - val_mean_squared_error: 0.1996 - val_binary_accuracy: 0.6916\n",
      "Epoch 3/7\n",
      "12750/12750 [==============================] - 49s - loss: 0.5633 - mean_squared_error: 0.1917 - binary_accuracy: 0.7035 - val_loss: 0.5723 - val_mean_squared_error: 0.1954 - val_binary_accuracy: 0.7000\n",
      "Epoch 4/7\n",
      "12750/12750 [==============================] - 56s - loss: 0.5432 - mean_squared_error: 0.1833 - binary_accuracy: 0.7216 - val_loss: 0.5766 - val_mean_squared_error: 0.1969 - val_binary_accuracy: 0.6960\n",
      "Epoch 5/7\n",
      "12750/12750 [==============================] - 55s - loss: 0.5204 - mean_squared_error: 0.1741 - binary_accuracy: 0.7366 - val_loss: 0.5718 - val_mean_squared_error: 0.1951 - val_binary_accuracy: 0.7062\n",
      "Epoch 6/7\n",
      "12750/12750 [==============================] - 54s - loss: 0.5069 - mean_squared_error: 0.1690 - binary_accuracy: 0.7480 - val_loss: 0.5669 - val_mean_squared_error: 0.1929 - val_binary_accuracy: 0.7022\n",
      "Epoch 7/7\n",
      "12750/12750 [==============================] - 87s - loss: 0.4848 - mean_squared_error: 0.1603 - binary_accuracy: 0.7613 - val_loss: 0.5773 - val_mean_squared_error: 0.1955 - val_binary_accuracy: 0.7062\n"
     ]
    },
    {
     "data": {
      "image/png": "[encoded data removed]",
      "text/plain": [
       "<Figure size 720x720 with 3 Axes>"
      ]
     },
     "metadata": {},
     "output_type": "display_data"
    }
   ],
   "source": [
    "model = get_model()\n",
    "open('./outputs/model_description.yaml','w').write(model.to_yaml())\n",
    "plot_model(model, to_file='./outputs/model_graph.png',show_layer_names=True,show_shapes=True)\n",
    "history = model.fit(train_X,train_Y,validation_data=[test_X,test_Y],epochs=7)\n",
    "generate_stats(history,prefix='simple')"
   ]
  },
  {
   "cell_type": "markdown",
   "metadata": {},
   "source": [
    "This cell contains unused driver code for the complex mode. The code is analogous to the above cell."
   ]
  },
  {
   "cell_type": "code",
   "execution_count": null,
   "metadata": {},
   "outputs": [],
   "source": [
    "if COMPLEX_MODE:\n",
    "    model = get_complex_model()\n",
    "    open('./outputs/model_description.yaml','w').write(model.to_yaml())\n",
    "    plot_model(model, to_file='./outputs/complex_model_graph.png',show_layer_names=True,show_shapes=True)\n",
    "    history = model.fit(train_X,train_Y,validation_data=[test_X,test_Y],epochs=7)\n",
    "    generate_stats(history,prefix='complex')\n",
    "    open('./outputs/complex_model_description.yaml','w').write(model.to_yaml())"
   ]
  }
 ],
 "metadata": {
  "kernelspec": {
   "display_name": "Python [default]",
   "language": "python",
   "name": "python3"
  },
  "language_info": {
   "codemirror_mode": {
    "name": "ipython",
    "version": 3
   },
   "file_extension": ".py",
   "mimetype": "text/x-python",
   "name": "python",
   "nbconvert_exporter": "python",
   "pygments_lexer": "ipython3",
   "version": "3.5.4"
  }
 },
 "nbformat": 4,
 "nbformat_minor": 2
}
