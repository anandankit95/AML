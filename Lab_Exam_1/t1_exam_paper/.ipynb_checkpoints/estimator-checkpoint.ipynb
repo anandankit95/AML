{
 "cells": [
  {
   "cell_type": "code",
   "execution_count": null,
   "metadata": {
    "colab": {},
    "colab_type": "code",
    "id": "HFdENWt2RSpP"
   },
   "outputs": [],
   "source": [
    "import tensorflow as tf"
   ]
  },
  {
   "cell_type": "code",
   "execution_count": null,
   "metadata": {
    "colab": {},
    "colab_type": "code",
    "id": "R5ARzbo6RSpX"
   },
   "outputs": [],
   "source": [
    "tf.enable_eager_execution()"
   ]
  },
  {
   "cell_type": "code",
   "execution_count": null,
   "metadata": {
    "colab": {},
    "colab_type": "code",
    "id": "gLAPmq4JRSpZ"
   },
   "outputs": [],
   "source": [
    "class DNNRegressor(tf.estimator.Estimator):\n",
    "    def __init__(self, feature_columns, outputs, hidden_units=2, activations=None, input_shape=[2],**kwargs):\n",
    "        super().__init__(model_fn=self._model_fn, params={\n",
    "            'feature_columns': feature_columns,\n",
    "            'hidden_units': hidden_units,\n",
    "            'outputs': outputs\n",
    "        },**kwargs)\n",
    "    \n",
    "    def _model_fn(self, features, labels, mode, params):\n",
    "        inp = tf.feature_column.input_layer(features, params['feature_columns'],name='input')\n",
    "        h = tf.layers.dense(inp, units=params['hidden_units'], activation=tf.nn.relu,name='hidden')\n",
    "        out = tf.layers.dense(h, units=params['outputs'], activation=None,name=\"output\")\n",
    "\n",
    "        if mode == tf.estimator.ModeKeys.PREDICT:\n",
    "            predictions = {\n",
    "                'logits': out\n",
    "            }\n",
    "            return tf.estimator.EstimatorSpec(mode, predictions=predictions)\n",
    "\n",
    "        # Compute loss.\n",
    "        loss = tf.losses.mean_squared_error(labels=labels,predictions=out)\n",
    "        # Compute evaluation metrics.\n",
    "        precision = tf.metrics.precision(labels=labels,\n",
    "                                       predictions=out,\n",
    "                                       name='pre_op')\n",
    "        recall = tf.metrics.recall(labels=labels,\n",
    "                                       predictions=out,\n",
    "                                       name='rec_op')\n",
    "        metrics = {'precision': precision,'recall':recall}\n",
    "        tf.summary.scalar('precision', precision[1])\n",
    "        tf.summary.scalar('recall', recall[1])\n",
    "\n",
    "        if mode == tf.estimator.ModeKeys.EVAL:\n",
    "            return tf.estimator.EstimatorSpec(\n",
    "                mode, loss=loss, eval_metric_ops=metrics)\n",
    "\n",
    "        # Create training op.\n",
    "        assert mode == tf.estimator.ModeKeys.TRAIN\n",
    "\n",
    "        optimizer = tf.train.AdagradOptimizer(learning_rate=0.1)\n",
    "        train_op = optimizer.minimize(loss, global_step=tf.train.get_global_step())\n",
    "        return tf.estimator.EstimatorSpec(mode, loss=loss, train_op=train_op)\n",
    "\n",
    "    def get_variable_params(self, layer_name):\n",
    "        pass"
   ]
  },
  {
   "cell_type": "code",
   "execution_count": null,
   "metadata": {
    "colab": {},
    "colab_type": "code",
    "id": "_l5l1DvTRSpd"
   },
   "outputs": [],
   "source": [
    "def input_fn_y1():\n",
    "    d = tf.contrib.data.CsvDataset('algebra.csv',[tf.float32]*4)\n",
    "    d = d.batch(32).map(lambda x1,x2,y1,y2:({\"x1\":x1,\"x2\":x2},tf.transpose(tf.stack([y1]))))\n",
    "    return d\n",
    "\n",
    "def input_fn_y2():\n",
    "    d = tf.contrib.data.CsvDataset('algebra.csv',[tf.float32]*4)\n",
    "    d = d.batch(32).map(lambda x1,x2,y1,y2:({\"x1\":x1,\"x2\":x2},tf.transpose(tf.stack([y2]))))\n",
    "    return d\n",
    "\n",
    "def input_fn_both():\n",
    "    d = tf.contrib.data.CsvDataset('algebra.csv',[tf.float32]*4)\n",
    "    d = d.batch(32).map(lambda x1,x2,y1,y2:({\"x1\":x1,\"x2\":x2},tf.transpose(tf.stack([y1,y2]))))\n",
    "    return d"
   ]
  },
  {
   "cell_type": "code",
   "execution_count": null,
   "metadata": {
    "colab": {},
    "colab_type": "code",
    "id": "xnVe2Js7RSpg",
    "outputId": "721148c0-ab93-4104-92e3-4ab2e6a0d7f4"
   },
   "outputs": [
    {
     "name": "stdout",
     "output_type": "stream",
     "text": [
      "INFO:tensorflow:Using default config.\n",
      "WARNING:tensorflow:Using temporary folder as model directory: /tmp/tmpspt8nzf8\n",
      "INFO:tensorflow:Using config: {'_model_dir': '/tmp/tmpspt8nzf8', '_tf_random_seed': None, '_save_summary_steps': 100, '_save_checkpoints_steps': None, '_save_checkpoints_secs': 600, '_session_config': None, '_keep_checkpoint_max': 5, '_keep_checkpoint_every_n_hours': 10000, '_log_step_count_steps': 100, '_train_distribute': None, '_device_fn': None, '_service': None, '_cluster_spec': <tensorflow.python.training.server_lib.ClusterSpec object at 0x7f86b0136e80>, '_task_type': 'worker', '_task_id': 0, '_global_id_in_cluster': 0, '_master': '', '_evaluation_master': '', '_is_chief': True, '_num_ps_replicas': 0, '_num_worker_replicas': 1}\n",
      "INFO:tensorflow:Using default config.\n",
      "WARNING:tensorflow:Using temporary folder as model directory: /tmp/tmplap0r46t\n",
      "INFO:tensorflow:Using config: {'_model_dir': '/tmp/tmplap0r46t', '_tf_random_seed': None, '_save_summary_steps': 100, '_save_checkpoints_steps': None, '_save_checkpoints_secs': 600, '_session_config': None, '_keep_checkpoint_max': 5, '_keep_checkpoint_every_n_hours': 10000, '_log_step_count_steps': 100, '_train_distribute': None, '_device_fn': None, '_service': None, '_cluster_spec': <tensorflow.python.training.server_lib.ClusterSpec object at 0x7f86b01367f0>, '_task_type': 'worker', '_task_id': 0, '_global_id_in_cluster': 0, '_master': '', '_evaluation_master': '', '_is_chief': True, '_num_ps_replicas': 0, '_num_worker_replicas': 1}\n",
      "INFO:tensorflow:Using default config.\n",
      "WARNING:tensorflow:Using temporary folder as model directory: /tmp/tmph4z3syb_\n",
      "INFO:tensorflow:Using config: {'_model_dir': '/tmp/tmph4z3syb_', '_tf_random_seed': None, '_save_summary_steps': 100, '_save_checkpoints_steps': None, '_save_checkpoints_secs': 600, '_session_config': None, '_keep_checkpoint_max': 5, '_keep_checkpoint_every_n_hours': 10000, '_log_step_count_steps': 100, '_train_distribute': None, '_device_fn': None, '_service': None, '_cluster_spec': <tensorflow.python.training.server_lib.ClusterSpec object at 0x7f86b01369e8>, '_task_type': 'worker', '_task_id': 0, '_global_id_in_cluster': 0, '_master': '', '_evaluation_master': '', '_is_chief': True, '_num_ps_replicas': 0, '_num_worker_replicas': 1}\n",
      "INFO:tensorflow:Using default config.\n",
      "WARNING:tensorflow:Using temporary folder as model directory: /tmp/tmpye9h93pu\n",
      "INFO:tensorflow:Using config: {'_model_dir': '/tmp/tmpye9h93pu', '_tf_random_seed': None, '_save_summary_steps': 100, '_save_checkpoints_steps': None, '_save_checkpoints_secs': 600, '_session_config': None, '_keep_checkpoint_max': 5, '_keep_checkpoint_every_n_hours': 10000, '_log_step_count_steps': 100, '_train_distribute': None, '_device_fn': None, '_service': None, '_cluster_spec': <tensorflow.python.training.server_lib.ClusterSpec object at 0x7f86b0136400>, '_task_type': 'worker', '_task_id': 0, '_global_id_in_cluster': 0, '_master': '', '_evaluation_master': '', '_is_chief': True, '_num_ps_replicas': 0, '_num_worker_replicas': 1}\n"
     ]
    }
   ],
   "source": [
    "feat_cols = [tf.feature_column.numeric_column('x1'), tf.feature_column.numeric_column('x2')]\n",
    "d_y1 = DNNRegressor(feat_cols,outputs=1)\n",
    "d_y2 = DNNRegressor(feat_cols,outputs=1)\n",
    "d_both = DNNRegressor(feat_cols,outputs=2)\n",
    "d_both_large = DNNRegressor(feat_cols,hidden_units=3,outputs=2)"
   ]
  },
  {
   "cell_type": "code",
   "execution_count": null,
   "metadata": {
    "colab": {},
    "colab_type": "code",
    "id": "iRUK0th5RSpo",
    "outputId": "c3c3c9ed-4e1c-48f9-ad81-bd57d8175900"
   },
   "outputs": [
    {
     "name": "stdout",
     "output_type": "stream",
     "text": [
      "INFO:tensorflow:Calling model_fn.\n",
      "INFO:tensorflow:Done calling model_fn.\n",
      "INFO:tensorflow:Create CheckpointSaverHook.\n",
      "INFO:tensorflow:Graph was finalized.\n",
      "INFO:tensorflow:Running local_init_op.\n",
      "INFO:tensorflow:Done running local_init_op.\n",
      "INFO:tensorflow:Saving checkpoints for 0 into /tmp/tmpspt8nzf8/model.ckpt.\n",
      "INFO:tensorflow:loss = 105.30598, step = 1\n",
      "INFO:tensorflow:global_step/sec: 787.701\n",
      "INFO:tensorflow:loss = 7.466078, step = 101 (0.128 sec)\n",
      "INFO:tensorflow:global_step/sec: 1040.99\n",
      "INFO:tensorflow:loss = 7.0386796, step = 201 (0.096 sec)\n",
      "INFO:tensorflow:global_step/sec: 1093.02\n",
      "INFO:tensorflow:loss = 5.5470104, step = 301 (0.091 sec)\n",
      "INFO:tensorflow:global_step/sec: 988.057\n",
      "INFO:tensorflow:loss = 6.097151, step = 401 (0.101 sec)\n",
      "INFO:tensorflow:global_step/sec: 1160.95\n",
      "INFO:tensorflow:loss = 3.6040425, step = 501 (0.086 sec)\n",
      "INFO:tensorflow:global_step/sec: 1073.93\n",
      "INFO:tensorflow:loss = 5.1656027, step = 601 (0.093 sec)\n",
      "INFO:tensorflow:Saving checkpoints for 625 into /tmp/tmpspt8nzf8/model.ckpt.\n",
      "INFO:tensorflow:Loss for final step: 2.9305959.\n",
      "INFO:tensorflow:Calling model_fn.\n",
      "INFO:tensorflow:Done calling model_fn.\n",
      "INFO:tensorflow:Create CheckpointSaverHook.\n",
      "INFO:tensorflow:Graph was finalized.\n",
      "INFO:tensorflow:Running local_init_op.\n",
      "INFO:tensorflow:Done running local_init_op.\n",
      "INFO:tensorflow:Saving checkpoints for 0 into /tmp/tmplap0r46t/model.ckpt.\n",
      "INFO:tensorflow:loss = 4.2241817, step = 1\n",
      "INFO:tensorflow:global_step/sec: 740.696\n",
      "INFO:tensorflow:loss = 15.224379, step = 101 (0.136 sec)\n",
      "INFO:tensorflow:global_step/sec: 631.229\n",
      "INFO:tensorflow:loss = 26.421011, step = 201 (0.160 sec)\n",
      "INFO:tensorflow:global_step/sec: 597.239\n",
      "INFO:tensorflow:loss = 15.504965, step = 301 (0.167 sec)\n",
      "INFO:tensorflow:global_step/sec: 886.916\n",
      "INFO:tensorflow:loss = 45.903267, step = 401 (0.112 sec)\n",
      "INFO:tensorflow:global_step/sec: 868.803\n",
      "INFO:tensorflow:loss = 881.8063, step = 501 (0.115 sec)\n",
      "INFO:tensorflow:global_step/sec: 997.891\n",
      "INFO:tensorflow:loss = 10.6936035, step = 601 (0.100 sec)\n",
      "INFO:tensorflow:Saving checkpoints for 625 into /tmp/tmplap0r46t/model.ckpt.\n",
      "INFO:tensorflow:Loss for final step: 300.99844.\n",
      "INFO:tensorflow:Calling model_fn.\n",
      "INFO:tensorflow:Done calling model_fn.\n",
      "INFO:tensorflow:Create CheckpointSaverHook.\n",
      "INFO:tensorflow:Graph was finalized.\n",
      "INFO:tensorflow:Running local_init_op.\n",
      "INFO:tensorflow:Done running local_init_op.\n",
      "INFO:tensorflow:Saving checkpoints for 0 into /tmp/tmph4z3syb_/model.ckpt.\n",
      "INFO:tensorflow:loss = 56.50858, step = 1\n",
      "INFO:tensorflow:global_step/sec: 789.825\n",
      "INFO:tensorflow:loss = 37.312122, step = 101 (0.128 sec)\n",
      "INFO:tensorflow:global_step/sec: 980.557\n",
      "INFO:tensorflow:loss = 43.637257, step = 201 (0.102 sec)\n",
      "INFO:tensorflow:global_step/sec: 987.999\n",
      "INFO:tensorflow:loss = 32.293175, step = 301 (0.101 sec)\n",
      "INFO:tensorflow:global_step/sec: 881.801\n",
      "INFO:tensorflow:loss = 46.00581, step = 401 (0.116 sec)\n",
      "INFO:tensorflow:global_step/sec: 842.82\n",
      "INFO:tensorflow:loss = 380.08838, step = 501 (0.116 sec)\n",
      "INFO:tensorflow:global_step/sec: 1004.32\n",
      "INFO:tensorflow:loss = 42.262154, step = 601 (0.100 sec)\n",
      "INFO:tensorflow:Saving checkpoints for 625 into /tmp/tmph4z3syb_/model.ckpt.\n",
      "INFO:tensorflow:Loss for final step: 128.62186.\n",
      "INFO:tensorflow:Calling model_fn.\n",
      "INFO:tensorflow:Done calling model_fn.\n",
      "INFO:tensorflow:Create CheckpointSaverHook.\n",
      "INFO:tensorflow:Graph was finalized.\n",
      "INFO:tensorflow:Running local_init_op.\n",
      "INFO:tensorflow:Done running local_init_op.\n",
      "INFO:tensorflow:Saving checkpoints for 0 into /tmp/tmpye9h93pu/model.ckpt.\n",
      "INFO:tensorflow:loss = 45.90406, step = 1\n",
      "INFO:tensorflow:global_step/sec: 811.956\n",
      "INFO:tensorflow:loss = 23.139658, step = 101 (0.124 sec)\n",
      "INFO:tensorflow:global_step/sec: 828.398\n",
      "INFO:tensorflow:loss = 42.50558, step = 201 (0.121 sec)\n",
      "INFO:tensorflow:global_step/sec: 1024.33\n",
      "INFO:tensorflow:loss = 23.135048, step = 301 (0.098 sec)\n",
      "INFO:tensorflow:global_step/sec: 1028.33\n",
      "INFO:tensorflow:loss = 49.91971, step = 401 (0.097 sec)\n",
      "INFO:tensorflow:global_step/sec: 784.503\n",
      "INFO:tensorflow:loss = 452.651, step = 501 (0.127 sec)\n",
      "INFO:tensorflow:global_step/sec: 1025.05\n",
      "INFO:tensorflow:loss = 14.49761, step = 601 (0.097 sec)\n",
      "INFO:tensorflow:Saving checkpoints for 625 into /tmp/tmpye9h93pu/model.ckpt.\n",
      "INFO:tensorflow:Loss for final step: 165.35208.\n"
     ]
    },
    {
     "data": {
      "text/plain": [
       "<__main__.DNNRegressor at 0x7f86b0136080>"
      ]
     },
     "execution_count": 26,
     "metadata": {
      "tags": []
     },
     "output_type": "execute_result"
    }
   ],
   "source": [
    "d_y1.train(input_fn_y1)\n",
    "d_y2.train(input_fn_y2)\n",
    "d_both.train(input_fn_both)\n",
    "d_both_large.train(input_fn_both)"
   ]
  },
  {
   "cell_type": "code",
   "execution_count": null,
   "metadata": {
    "colab": {},
    "colab_type": "code",
    "id": "hRzgVMWiRSpt",
    "outputId": "f30b99f7-20a4-4a1c-cfc2-4f3dc4617608"
   },
   "outputs": [
    {
     "data": {
      "text/plain": [
       "\u001b[0;31mInit signature:\u001b[0m \u001b[0mtf\u001b[0m\u001b[0;34m.\u001b[0m\u001b[0mestimator\u001b[0m\u001b[0;34m.\u001b[0m\u001b[0mEstimatorSpec\u001b[0m\u001b[0;34m(\u001b[0m\u001b[0mmode\u001b[0m\u001b[0;34m,\u001b[0m \u001b[0mpredictions\u001b[0m\u001b[0;34m=\u001b[0m\u001b[0;32mNone\u001b[0m\u001b[0;34m,\u001b[0m \u001b[0mloss\u001b[0m\u001b[0;34m=\u001b[0m\u001b[0;32mNone\u001b[0m\u001b[0;34m,\u001b[0m \u001b[0mtrain_op\u001b[0m\u001b[0;34m=\u001b[0m\u001b[0;32mNone\u001b[0m\u001b[0;34m,\u001b[0m \u001b[0meval_metric_ops\u001b[0m\u001b[0;34m=\u001b[0m\u001b[0;32mNone\u001b[0m\u001b[0;34m,\u001b[0m \u001b[0mexport_outputs\u001b[0m\u001b[0;34m=\u001b[0m\u001b[0;32mNone\u001b[0m\u001b[0;34m,\u001b[0m \u001b[0mtraining_chief_hooks\u001b[0m\u001b[0;34m=\u001b[0m\u001b[0;32mNone\u001b[0m\u001b[0;34m,\u001b[0m \u001b[0mtraining_hooks\u001b[0m\u001b[0;34m=\u001b[0m\u001b[0;32mNone\u001b[0m\u001b[0;34m,\u001b[0m \u001b[0mscaffold\u001b[0m\u001b[0;34m=\u001b[0m\u001b[0;32mNone\u001b[0m\u001b[0;34m,\u001b[0m \u001b[0mevaluation_hooks\u001b[0m\u001b[0;34m=\u001b[0m\u001b[0;32mNone\u001b[0m\u001b[0;34m,\u001b[0m \u001b[0mprediction_hooks\u001b[0m\u001b[0;34m=\u001b[0m\u001b[0;32mNone\u001b[0m\u001b[0;34m)\u001b[0m\u001b[0;34m\u001b[0m\u001b[0m\n",
       "\u001b[0;31mDocstring:\u001b[0m     \n",
       "Ops and objects returned from a `model_fn` and passed to an `Estimator`.\n",
       "\n",
       "`EstimatorSpec` fully defines the model to be run by an `Estimator`.\n",
       "\u001b[0;31mFile:\u001b[0m           ~/.virtualenvs/default/local/lib/python3.6/site-packages/tensorflow/python/estimator/model_fn.py\n",
       "\u001b[0;31mType:\u001b[0m           type\n"
      ]
     },
     "metadata": {
      "tags": []
     },
     "output_type": "display_data"
    }
   ],
   "source": [
    "tf.estimator.EstimatorSpec?"
   ]
  },
  {
   "cell_type": "code",
   "execution_count": null,
   "metadata": {
    "colab": {},
    "colab_type": "code",
    "id": "c-YF0srERSpx"
   },
   "outputs": [],
   "source": []
  }
 ],
 "metadata": {
  "colab": {
   "name": "estimator.ipynb",
   "provenance": [],
   "toc_visible": true,
   "version": "0.3.2"
  },
  "kernelspec": {
   "display_name": "Python [default]",
   "language": "python",
   "name": "python3"
  },
  "language_info": {
   "name": ""
  }
 },
 "nbformat": 4,
 "nbformat_minor": 2
}
