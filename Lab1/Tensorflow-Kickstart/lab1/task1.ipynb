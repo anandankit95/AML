{
 "cells": [
  {
   "cell_type": "code",
   "execution_count": 1,
   "metadata": {},
   "outputs": [
    {
     "name": "stderr",
     "output_type": "stream",
     "text": [
      "/Users/ankit/anaconda/lib/python3.5/importlib/_bootstrap.py:222: RuntimeWarning: compiletime version 3.6 of module 'tensorflow.python.framework.fast_tensor_util' does not match runtime version 3.5\n",
      "  return f(*args, **kwds)\n",
      "/Users/ankit/anaconda/lib/python3.5/site-packages/h5py/__init__.py:34: FutureWarning: Conversion of the second argument of issubdtype from `float` to `np.floating` is deprecated. In future, it will be treated as `np.float64 == np.dtype(float).type`.\n",
      "  from ._conv import register_converters as _register_converters\n"
     ]
    }
   ],
   "source": [
    "import tensorflow as tf\n",
    "import pandas as pd\n",
    "import numpy as np\n",
    "from prettytable import PrettyTable"
   ]
  },
  {
   "cell_type": "markdown",
   "metadata": {},
   "source": [
    "This function takes a path, fetches and normalizes the data, and then builds a feed dict from it."
   ]
  },
  {
   "cell_type": "code",
   "execution_count": 2,
   "metadata": {},
   "outputs": [],
   "source": [
    "def get_normalized_feed_dict(path, X, Y):\n",
    "    d = pd.read_csv(path,names=['x','y'])\n",
    "    m1 = np.max(d['x'])\n",
    "    x = np.array(d['x'])\n",
    "    y = np.array(d['y'])\n",
    "    m2 = np.max(d['y'])\n",
    "    return m1, m2, {X:(x/m1), Y:(y/m2)}\n"
   ]
  },
  {
   "cell_type": "markdown",
   "metadata": {},
   "source": [
    "Here, we build the graph nodes. X and Y are input nodes, w and b are variables, and the rest\n",
    "are nodes used to train the graph."
   ]
  },
  {
   "cell_type": "code",
   "execution_count": 3,
   "metadata": {},
   "outputs": [],
   "source": [
    "tf.reset_default_graph()\n",
    "X = tf.placeholder(tf.float32, name='X')\n",
    "Y = tf.placeholder(tf.float32, name='Y')\n",
    "l_rate=0.001\n",
    "w = tf.Variable(0.0,name='w')\n",
    "b = tf.Variable(0.0,name='b')\n",
    "Y_hat = w * X + b\n",
    "loss = tf.losses.absolute_difference(Y,Y_hat)\n",
    "opt = tf.train.GradientDescentOptimizer(l_rate)\n",
    "train_op = opt.minimize(loss)"
   ]
  },
  {
   "cell_type": "markdown",
   "metadata": {},
   "source": [
    "Build summary nodes to output data to tensorboard"
   ]
  },
  {
   "cell_type": "code",
   "execution_count": 4,
   "metadata": {},
   "outputs": [],
   "source": [
    "tf.summary.scalar('loss',loss)\n",
    "tf.summary.scalar('w',w)\n",
    "tf.summary.scalar('b',b)\n",
    "all_summary = tf.summary.merge_all()\n",
    "filewriter = tf.summary.FileWriter(\"task1_logs\", graph=tf.get_default_graph())"
   ]
  },
  {
   "cell_type": "markdown",
   "metadata": {},
   "source": [
    "Finally, we actually run the code for each graph, storing the results in a table to be printed later."
   ]
  },
  {
   "cell_type": "code",
   "execution_count": 8,
   "metadata": {},
   "outputs": [
    {
     "name": "stdout",
     "output_type": "stream",
     "text": [
      "Training on dataset ds1.csv\n",
      "Training on dataset ds2.csv\n",
      "Training on dataset ds3.csv\n"
     ]
    }
   ],
   "source": [
    "table = PrettyTable(field_names=['Path','Min Loss','w','b'])\n",
    "paths = ['ds1.csv', 'ds2.csv', 'ds3.csv']\n",
    "for path in paths:\n",
    "    min_loss = None\n",
    "    with tf.Session() as sess:\n",
    "        sess.run(tf.global_variables_initializer())\n",
    "        m1, m2, feed_dict = get_normalized_feed_dict(path, X, Y)\n",
    "        print(\"Training on dataset {}\".format(path))\n",
    "        for i in range(10000):\n",
    "            if i % 100 == 0:\n",
    "                train_loss, _, summ_buf = sess.run([loss,train_op, all_summary], feed_dict=feed_dict)\n",
    "                filewriter.add_summary(summ_buf,i)\n",
    "            else:\n",
    "                train_loss, _ = sess.run([loss,train_op], feed_dict=feed_dict)\n",
    "                \n",
    "            if min_loss is None or train_loss<min_loss:\n",
    "                min_loss = train_loss\n",
    "        \n",
    "        table.add_row([path, min_loss, w.eval()*m2/m1,b.eval()*m2])"
   ]
  },
  {
   "cell_type": "markdown",
   "metadata": {},
   "source": [
    "As we can see, 'ds2.csv' has the lowest loss, and thus contains the most linear data, 'ds3.csv' coming a distant second. The values of w and b are shown in the table."
   ]
  },
  {
   "cell_type": "code",
   "execution_count": 9,
   "metadata": {},
   "outputs": [
    {
     "name": "stdout",
     "output_type": "stream",
     "text": [
      "+---------+---------------+----------------------+---------------------+\n",
      "|   Path  |    Min Loss   |          w           |          b          |\n",
      "+---------+---------------+----------------------+---------------------+\n",
      "| ds1.csv |   0.4220467   | -0.13751043750844857 | 0.40299406621720824 |\n",
      "| ds2.csv | 3.1379615e-05 |  1.8000078359709943  |  31.578152749593485 |\n",
      "| ds3.csv |   0.24977364  | 0.08287378291757451  |  1.0599809885025024 |\n",
      "+---------+---------------+----------------------+---------------------+\n"
     ]
    }
   ],
   "source": [
    "print(table)"
   ]
  },
  {
   "cell_type": "markdown",
   "metadata": {},
   "source": [
    "As we can see, the plots show that `ds2.csv` is the most linear."
   ]
  },
  {
   "cell_type": "code",
   "execution_count": 7,
   "metadata": {},
   "outputs": [
    {
     "data": {
      "image/png": "[encoded data removed]",
      "text/plain": [
       "<Figure size 432x288 with 1 Axes>"
      ]
     },
     "metadata": {},
     "output_type": "display_data"
    },
    {
     "data": {
      "image/png": "[encoded data removed]",
      "text/plain": [
       "<Figure size 432x288 with 1 Axes>"
      ]
     },
     "metadata": {},
     "output_type": "display_data"
    },
    {
     "data": {
      "image/png": "[encoded data removed]",
      "text/plain": [
       "<Figure size 432x288 with 1 Axes>"
      ]
     },
     "metadata": {},
     "output_type": "display_data"
    }
   ],
   "source": [
    "import seaborn as sb\n",
    "import matplotlib.pyplot as plt\n",
    "for path in paths:\n",
    "    d = pd.read_csv(path,names=['x','y'])\n",
    "    m1 = np.max(d['x'])\n",
    "    x = np.array(d['x'])\n",
    "    y = np.array(d['y'])\n",
    "    m2 = np.max(d['y'])\n",
    "    sb.regplot((x/m1),(y/m2))\n",
    "    plt.show()\n"
   ]
  },
  {
   "cell_type": "code",
   "execution_count": null,
   "metadata": {},
   "outputs": [],
   "source": []
  }
 ],
 "metadata": {
  "kernelspec": {
   "display_name": "Python [default]",
   "language": "python",
   "name": "python3"
  },
  "language_info": {
   "codemirror_mode": {
    "name": "ipython",
    "version": 3
   },
   "file_extension": ".py",
   "mimetype": "text/x-python",
   "name": "python",
   "nbconvert_exporter": "python",
   "pygments_lexer": "ipython3",
   "version": "3.5.4"
  }
 },
 "nbformat": 4,
 "nbformat_minor": 2
}
